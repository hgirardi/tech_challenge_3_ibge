{
 "cells": [
  {
   "cell_type": "markdown",
   "id": "c03a63d6",
   "metadata": {},
   "source": [
    "### 1. Setup inicial do Spark e Postgres"
   ]
  },
  {
   "cell_type": "code",
   "execution_count": 1,
   "id": "44b97070",
   "metadata": {},
   "outputs": [],
   "source": [
    "from pyspark.sql import functions as F\n",
    "from pyspark.sql.window import Window\n",
    "from pyspark.storagelevel import StorageLevel\n",
    "from pyspark.sql.functions import broadcast\n",
    "\n",
    "from functools import reduce\n",
    "import psycopg2\n",
    "\n",
    "import sys\n",
    "sys.path.append(\"../libs\")\n",
    "from utils import silenciar_warnings, pgconfig_init, pg_conn, pg_executar_sql, spark_init, spark_read_jdbc\n",
    "\n",
    "# Silenciar warnings/logs\n",
    "silenciar_warnings()"
   ]
  },
  {
   "cell_type": "markdown",
   "id": "374d354a",
   "metadata": {},
   "source": [
    "#### 1.1 Spark"
   ]
  },
  {
   "cell_type": "code",
   "execution_count": 2,
   "id": "52469bf9",
   "metadata": {},
   "outputs": [
    {
     "name": "stderr",
     "output_type": "stream",
     "text": [
      "WARNING: Using incubator modules: jdk.incubator.vector\n",
      ":: loading settings :: url = jar:file:/opt/homebrew/lib/python3.11/site-packages/pyspark/jars/ivy-2.5.3.jar!/org/apache/ivy/core/settings/ivysettings.xml\n",
      "Ivy Default Cache set to: /Users/hgirardi/.ivy2.5.2/cache\n",
      "The jars for the packages stored in: /Users/hgirardi/.ivy2.5.2/jars\n",
      "org.postgresql#postgresql added as a dependency\n",
      ":: resolving dependencies :: org.apache.spark#spark-submit-parent-7a1b5eaf-264c-41a4-8afd-84d6a25138e4;1.0\n",
      "\tconfs: [default]\n",
      "\tfound org.postgresql#postgresql;42.7.3 in central\n",
      "\tfound org.checkerframework#checker-qual;3.42.0 in central\n",
      ":: resolution report :: resolve 45ms :: artifacts dl 3ms\n",
      "\t:: modules in use:\n",
      "\torg.checkerframework#checker-qual;3.42.0 from central in [default]\n",
      "\torg.postgresql#postgresql;42.7.3 from central in [default]\n",
      "\t---------------------------------------------------------------------\n",
      "\t|                  |            modules            ||   artifacts   |\n",
      "\t|       conf       | number| search|dwnlded|evicted|| number|dwnlded|\n",
      "\t---------------------------------------------------------------------\n",
      "\t|      default     |   2   |   0   |   0   |   0   ||   2   |   0   |\n",
      "\t---------------------------------------------------------------------\n",
      ":: retrieving :: org.apache.spark#spark-submit-parent-7a1b5eaf-264c-41a4-8afd-84d6a25138e4\n",
      "\tconfs: [default]\n",
      "\t0 artifacts copied, 2 already retrieved (0kB/2ms)\n",
      "25/10/04 11:49:51 WARN NativeCodeLoader: Unable to load native-hadoop library for your platform... using builtin-java classes where applicable\n",
      "Using Spark's default log4j profile: org/apache/spark/log4j2-defaults.properties\n",
      "Setting default log level to \"WARN\".\n",
      "To adjust logging level use sc.setLogLevel(newLevel). For SparkR, use setLogLevel(newLevel).\n",
      "25/10/04 11:49:51 WARN Utils: Service 'SparkUI' could not bind on port 4040. Attempting port 4041.\n"
     ]
    },
    {
     "name": "stdout",
     "output_type": "stream",
     "text": [
      "✅ Spark inicializado: IBGE_Gold [local[*]]\n"
     ]
    }
   ],
   "source": [
    "# Inicializar Spark\n",
    "spark = spark_init(\"IBGE_Gold\")"
   ]
  },
  {
   "cell_type": "markdown",
   "id": "aa5a3a9d",
   "metadata": {},
   "source": [
    "#### 1.2 Postgres"
   ]
  },
  {
   "cell_type": "code",
   "execution_count": 3,
   "id": "50194c9b",
   "metadata": {},
   "outputs": [
    {
     "name": "stdout",
     "output_type": "stream",
     "text": [
      "✅ Configuração do Postgres carregada.\n",
      "== Executando SQL no Postgres ==\n",
      "✅ SQL executado!\n",
      "== Processo finalizado ==\n"
     ]
    }
   ],
   "source": [
    "# initizar configuração do PostgreSQL\n",
    "pgConfig = pgconfig_init()\n",
    "\n",
    "# criar schema silver no PostgreSQL, se não existir\n",
    "with pg_conn(pgConfig) as conn:\n",
    "    pg_executar_sql(conn, \"CREATE SCHEMA IF NOT EXISTS gold;\")"
   ]
  },
  {
   "cell_type": "markdown",
   "id": "68b9bcd8",
   "metadata": {},
   "source": [
    "### 2. Carregar Silver"
   ]
  },
  {
   "cell_type": "code",
   "execution_count": null,
   "id": "3bdeadcf",
   "metadata": {},
   "outputs": [
    {
     "name": "stderr",
     "output_type": "stream",
     "text": [
      "                                                                                \r"
     ]
    },
    {
     "data": {
      "text/plain": [
       "DataFrame[]"
      ]
     },
     "execution_count": 6,
     "metadata": {},
     "output_type": "execute_result"
    }
   ],
   "source": [
    "# carregar tabela silver.covid\n",
    "df_silver = spark_read_jdbc(spark, \"silver.covid\", pgConfig)\n",
    "\n",
    "df_silver.createOrReplaceTempView(\"silver_covid\")\n",
    "spark.sql(\"CACHE TABLE silver_covid\")  # acelera as próximas queries\n",
    "_ = spark.table(\"silver_covid\").limit(1).count()"
   ]
  },
  {
   "cell_type": "code",
   "execution_count": 7,
   "id": "72268db9",
   "metadata": {},
   "outputs": [],
   "source": [
    "_ = spark.table(\"silver_covid\").limit(1).count()"
   ]
  },
  {
   "cell_type": "markdown",
   "id": "fe262d20",
   "metadata": {},
   "source": []
  }
 ],
 "metadata": {
  "kernelspec": {
   "display_name": "Python 3",
   "language": "python",
   "name": "python3"
  },
  "language_info": {
   "codemirror_mode": {
    "name": "ipython",
    "version": 3
   },
   "file_extension": ".py",
   "mimetype": "text/x-python",
   "name": "python",
   "nbconvert_exporter": "python",
   "pygments_lexer": "ipython3",
   "version": "3.11.13"
  }
 },
 "nbformat": 4,
 "nbformat_minor": 5
}
