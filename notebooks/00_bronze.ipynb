{
 "cells": [
  {
   "cell_type": "code",
   "execution_count": 1,
   "id": "02891a01",
   "metadata": {},
   "outputs": [],
   "source": [
    "import os\n",
    "from dotenv import load_dotenv\n",
    "import boto3\n",
    "from pyspark.sql import SparkSession\n",
    "import pandas as pd\n",
    "from pathlib import Path\n",
    "from io import BytesIO"
   ]
  },
  {
   "cell_type": "code",
   "execution_count": 2,
   "id": "b2df29b3",
   "metadata": {},
   "outputs": [
    {
     "data": {
      "text/plain": [
       "True"
      ]
     },
     "execution_count": 2,
     "metadata": {},
     "output_type": "execute_result"
    }
   ],
   "source": [
    "# carregar variáveis do .env\n",
    "load_dotenv()"
   ]
  },
  {
   "cell_type": "code",
   "execution_count": 3,
   "id": "b29aa764",
   "metadata": {},
   "outputs": [
    {
     "name": "stdout",
     "output_type": "stream",
     "text": [
      "✅ Conexão com AWS estabelecida!\n",
      "✅ Arquivos de CSVs encontrados! ['raw/Dicionario_PNAD_COVID_112020_20220621.xls', 'raw/PNAD_COVID_092020.csv', 'raw/PNAD_COVID_102020.csv', 'raw/PNAD_COVID_112020.csv']\n"
     ]
    }
   ],
   "source": [
    "try:\n",
    "    # Inicialização do client da AWS\n",
    "    s3 = boto3.client(\n",
    "        's3',\n",
    "        aws_access_key_id=os.getenv(\"AWS_ACCESS_KEY_ID\"),\n",
    "        aws_secret_access_key=os.getenv(\"AWS_SECRET_ACCESS_KEY\"),\n",
    "        aws_session_token=os.getenv(\"AWS_SESSION_TOKEN\"),\n",
    "        region_name=os.getenv(\"AWS_REGION\")\n",
    "    )\n",
    "\n",
    "    print(f\"✅ Conexão com AWS estabelecida!\")\n",
    "\n",
    "    # Busca dos arquivos do S3\n",
    "    objetos = s3.list_objects_v2(\n",
    "        Bucket=os.getenv(\"S3_BUCKET_NAME\"),\n",
    "        Prefix=\"raw/\"\n",
    "    )\n",
    "\n",
    "    arquivos_bucket = []\n",
    "\n",
    "    # separar arquivo de dicionario dos arquivos de dados\n",
    "    if 'Contents' in objetos:\n",
    "        for obj in objetos['Contents']:\n",
    "            if obj['Size'] > 0:\n",
    "                arquivos_bucket.append(obj['Key'])\n",
    "    else:\n",
    "        print(\"⚠️ Nenhum arquivo encontrado na pasta 'raw'\")\n",
    "\n",
    "    if len(arquivos_bucket) > 0:\n",
    "        print(f\"✅ Arquivos de CSVs encontrados! {arquivos_bucket}\")\n",
    "\n",
    "except Exception as e:\n",
    "    print(f\"❌ Erro de conexão: {e}\")"
   ]
  },
  {
   "cell_type": "code",
   "execution_count": 4,
   "id": "b4ba2111",
   "metadata": {},
   "outputs": [
    {
     "name": "stderr",
     "output_type": "stream",
     "text": [
      "WARNING: Using incubator modules: jdk.incubator.vector\n",
      ":: loading settings :: url = jar:file:/opt/homebrew/lib/python3.11/site-packages/pyspark/jars/ivy-2.5.3.jar!/org/apache/ivy/core/settings/ivysettings.xml\n",
      "Ivy Default Cache set to: /Users/hgirardi/.ivy2.5.2/cache\n",
      "The jars for the packages stored in: /Users/hgirardi/.ivy2.5.2/jars\n",
      "org.postgresql#postgresql added as a dependency\n",
      ":: resolving dependencies :: org.apache.spark#spark-submit-parent-5ccad24a-f864-4b65-916e-60971a08c972;1.0\n",
      "\tconfs: [default]\n",
      "\tfound org.postgresql#postgresql;42.7.3 in central\n",
      "\tfound org.checkerframework#checker-qual;3.42.0 in central\n",
      ":: resolution report :: resolve 57ms :: artifacts dl 2ms\n",
      "\t:: modules in use:\n",
      "\torg.checkerframework#checker-qual;3.42.0 from central in [default]\n",
      "\torg.postgresql#postgresql;42.7.3 from central in [default]\n",
      "\t---------------------------------------------------------------------\n",
      "\t|                  |            modules            ||   artifacts   |\n",
      "\t|       conf       | number| search|dwnlded|evicted|| number|dwnlded|\n",
      "\t---------------------------------------------------------------------\n",
      "\t|      default     |   2   |   0   |   0   |   0   ||   2   |   0   |\n",
      "\t---------------------------------------------------------------------\n",
      ":: retrieving :: org.apache.spark#spark-submit-parent-5ccad24a-f864-4b65-916e-60971a08c972\n",
      "\tconfs: [default]\n",
      "\t0 artifacts copied, 2 already retrieved (0kB/3ms)\n",
      "25/09/25 20:25:55 WARN NativeCodeLoader: Unable to load native-hadoop library for your platform... using builtin-java classes where applicable\n",
      "Using Spark's default log4j profile: org/apache/spark/log4j2-defaults.properties\n",
      "Setting default log level to \"WARN\".\n",
      "To adjust logging level use sc.setLogLevel(newLevel). For SparkR, use setLogLevel(newLevel).\n"
     ]
    }
   ],
   "source": [
    "spark = (\n",
    "    SparkSession.builder\n",
    "      .appName(\"IBGE_Bronze\")\n",
    "      .config(\"spark.driver.memory\", \"4g\")\n",
    "      .config(\"spark.executor.memory\", \"4g\")\n",
    "      .config(\"spark.jars.packages\", \"org.postgresql:postgresql:42.7.3\")\n",
    "      .config(\"spark.hadoop.fs.s3a.aws.region\", os.getenv('AWS_REGION'))\n",
    "      .getOrCreate()\n",
    ")"
   ]
  },
  {
   "cell_type": "code",
   "execution_count": 5,
   "id": "aa1f9bd5",
   "metadata": {},
   "outputs": [
    {
     "name": "stdout",
     "output_type": "stream",
     "text": [
      "4.0.1\n",
      "Versão Scala: 4.0.1\n",
      "Detalhes: local-1758842756145\n"
     ]
    }
   ],
   "source": [
    "print(spark.version)\n",
    "print(f\"Versão Scala: {spark.sparkContext.version}\")\n",
    "print(f\"Detalhes: {spark.sparkContext.applicationId}\")"
   ]
  },
  {
   "cell_type": "code",
   "execution_count": 6,
   "id": "e62efe6f",
   "metadata": {},
   "outputs": [
    {
     "name": "stdout",
     "output_type": "stream",
     "text": [
      "== Iniciando processo de criação do schema ==\n",
      "✅ Connexão estabelecida!\n",
      "✅ SQL executado!\n",
      "✅ Connexão fechada!\n",
      "== Processo finalizado ==\n"
     ]
    }
   ],
   "source": [
    "import psycopg2\n",
    "\n",
    "# Dados de conexão com o Postgres\n",
    "jdbc_url = f\"jdbc:postgresql://{os.getenv('POSTGRES_HOST')}:{os.getenv('POSTGRES_PORT')}/{os.getenv('POSTGRES_DATABASE')}\"\n",
    "connection_properties = {\n",
    "    \"user\": os.getenv('POSTGRES_USER'),\n",
    "    \"password\": os.getenv('POSTGRES_PASSWORD'),\n",
    "    \"driver\": \"org.postgresql.Driver\"\n",
    "}\n",
    "\n",
    "\"\"\" Criação do schema Bronze no banco de dados \"\"\"\n",
    "\n",
    "print(f\"== Iniciando processo de criação do schema ==\")\n",
    "create_schema_sql = \"CREATE SCHEMA IF NOT EXISTS bronze;\"\n",
    "\n",
    "try:\n",
    "\n",
    "    conn = psycopg2.connect(\n",
    "        host=os.getenv('POSTGRES_HOST'),\n",
    "        port=os.getenv('POSTGRES_PORT'),\n",
    "        database=os.getenv('POSTGRES_DATABASE'),\n",
    "        user=connection_properties['user'],\n",
    "        password=connection_properties['password']\n",
    "    )\n",
    "    print(f\"✅ Connexão estabelecida!\")\n",
    "\n",
    "    with conn.cursor() as cursor:\n",
    "        cursor.execute(create_schema_sql)\n",
    "        conn.commit()\n",
    "        print(\"✅ SQL executado!\")\n",
    "    \n",
    "\n",
    "except psycopg2.Error as e:\n",
    "    print(f\"❌ Erro ao executar SQL: {e}\")\n",
    "    raise\n",
    "except Exception as e:\n",
    "    print(f\"❌ Erro genérico: {e}\")\n",
    "    raise\n",
    "finally:\n",
    "    if 'conn' in locals() and conn:\n",
    "        conn.close()\n",
    "        print(f\"✅ Connexão fechada!\")\n",
    "\n",
    "print(f\"== Processo finalizado ==\")\n"
   ]
  },
  {
   "cell_type": "code",
   "execution_count": 7,
   "id": "e87570fe",
   "metadata": {},
   "outputs": [],
   "source": [
    "def read_file(arquivo):\n",
    "    \"\"\" \n",
    "    Leitura do arquivo no Bucket para retornar o DF\n",
    "    Criação do DF será feita de acordo com a extensão do arquivo \n",
    "    Extensões suportadas: .csv e .xls/.xlsx\n",
    "    \"\"\"\n",
    "    extensao = Path(arquivo).suffix.lower()\n",
    "\n",
    "    if extensao == '.csv':\n",
    "        return spark.read.option(\"header\", \"true\").option(\"inferSchema\", \"false\").csv(f\"s3a://{os.getenv('S3_BUCKET_NAME')}/{arquivo}\")\n",
    "    \n",
    "    elif extensao in ['.xls', '.xlsx']:\n",
    "        obj = s3.get_object(Bucket=os.getenv('S3_BUCKET_NAME'), Key=arquivo)\n",
    "        \n",
    "        df = pd.read_excel(BytesIO(obj['Body'].read()))\n",
    "        df = df.astype(str)\n",
    "              \n",
    "        return spark.createDataFrame(df)\n",
    "\n",
    "    else:\n",
    "        raise ValueError(f\"❌ Extensão não suportada: {extensao}\")\n",
    "    "
   ]
  },
  {
   "cell_type": "code",
   "execution_count": 8,
   "id": "b484f95e",
   "metadata": {},
   "outputs": [
    {
     "name": "stdout",
     "output_type": "stream",
     "text": [
      "== Percorrendo os arquivos do Bucket para criação das tabelas no banco de dados ==\n",
      "\n",
      "  Arquivo: raw/Dicionario_PNAD_COVID_112020_20220621.xls\n",
      "  JDBC_URL: jdbc:postgresql://tech-challenge-3-ibge.c18mok42i31i.us-east-1.rds.amazonaws.com:5432/tech-challenge-3-ibge\n",
      "  Nome da tabela: bronze.raw_dicionario_pnad_covid_112020_20220621\n",
      "  Postgres Propriedades: {'user': 'postgres', 'password': 'postgres', 'driver': 'org.postgresql.Driver'}\n",
      "\n"
     ]
    },
    {
     "name": "stderr",
     "output_type": "stream",
     "text": [
      "                                                                                \r"
     ]
    },
    {
     "name": "stdout",
     "output_type": "stream",
     "text": [
      "  Dados carregados no DF: 660 linhas | ['Dicionário das variáveis da PNAD COVID', 'Unnamed: 1', 'Unnamed: 2', 'Unnamed: 3', 'Unnamed: 4', 'Unnamed: 5'] colunas\n",
      "+--------------------------------------+--------------------+----------+--------------------+----------+----------+\n",
      "|Dicionário das variáveis da PNAD COVID|          Unnamed: 1|Unnamed: 2|          Unnamed: 3|Unnamed: 4|Unnamed: 5|\n",
      "+--------------------------------------+--------------------+----------+--------------------+----------+----------+\n",
      "|                               Tamanho|Código\\nda\\nvariável|   Quesito|                 nan|Categorias|       nan|\n",
      "|                                   nan|                 nan|        nº|           Descrição|     Tipo | Descrição|\n",
      "|                  Parte 1 - Identif...|                 nan|       nan|                 nan|       nan|       nan|\n",
      "|                                     4|                 Ano|       nan|   Ano de referência|       nan|       nan|\n",
      "|                                     2|                  UF|       nan|Unidade da Federação|        11|  Rondônia|\n",
      "|                                   nan|                 nan|       nan|                 nan|        12|      Acre|\n",
      "|                                   nan|                 nan|       nan|                 nan|        13|  Amazonas|\n",
      "|                                   nan|                 nan|       nan|                 nan|        14|   Roraima|\n",
      "|                                   nan|                 nan|       nan|                 nan|        15|      Pará|\n",
      "|                                   nan|                 nan|       nan|                 nan|        16|     Amapá|\n",
      "+--------------------------------------+--------------------+----------+--------------------+----------+----------+\n",
      "only showing top 10 rows\n",
      "\n"
     ]
    },
    {
     "name": "stderr",
     "output_type": "stream",
     "text": [
      "                                                                                \r"
     ]
    },
    {
     "name": "stdout",
     "output_type": "stream",
     "text": [
      "  ✅ Tabela bronze.raw_dicionario_pnad_covid_112020_20220621 criada com sucesso!\n",
      "\n",
      "  --------------------------------------------------\n",
      "\n",
      "\n",
      "== Criação das tabelas concluída == \n",
      "  Arquivo: raw/PNAD_COVID_092020.csv\n",
      "  JDBC_URL: jdbc:postgresql://tech-challenge-3-ibge.c18mok42i31i.us-east-1.rds.amazonaws.com:5432/tech-challenge-3-ibge\n",
      "  Nome da tabela: bronze.raw_pnad_covid_092020\n",
      "  Postgres Propriedades: {'user': 'postgres', 'password': 'postgres', 'driver': 'org.postgresql.Driver'}\n"
     ]
    },
    {
     "name": "stderr",
     "output_type": "stream",
     "text": [
      "25/09/25 20:26:08 WARN MetricsConfig: Cannot locate configuration: tried hadoop-metrics2-s3a-file-system.properties,hadoop-metrics2.properties\n",
      "SLF4J: Failed to load class \"org.slf4j.impl.StaticLoggerBinder\".\n",
      "SLF4J: Defaulting to no-operation (NOP) logger implementation\n",
      "SLF4J: See http://www.slf4j.org/codes.html#StaticLoggerBinder for further details.\n"
     ]
    },
    {
     "name": "stdout",
     "output_type": "stream",
     "text": [
      "\n"
     ]
    },
    {
     "name": "stderr",
     "output_type": "stream",
     "text": [
      "25/09/25 20:26:22 WARN SparkStringUtils: Truncated the string representation of a plan since it was too large. This behavior can be adjusted by setting 'spark.sql.debug.maxToStringFields'.\n"
     ]
    },
    {
     "name": "stdout",
     "output_type": "stream",
     "text": [
      "  Dados carregados no DF: 387298 linhas | ['Ano', 'UF', 'CAPITAL', 'RM_RIDE', 'V1008', 'V1012', 'V1013', 'V1016', 'Estrato', 'UPA', 'V1022', 'V1023', 'V1030', 'V1031', 'V1032', 'posest', 'A001', 'A001A', 'A001B1', 'A001B2', 'A001B3', 'A002', 'A003', 'A004', 'A005', 'A006', 'A007', 'A008', 'A009', 'B0011', 'B0012', 'B0013', 'B0014', 'B0015', 'B0016', 'B0017', 'B0018', 'B0019', 'B00110', 'B00111', 'B00112', 'B00113', 'B002', 'B0031', 'B0032', 'B0033', 'B0034', 'B0035', 'B0036', 'B0037', 'B0041', 'B0042', 'B0043', 'B0044', 'B0045', 'B0046', 'B005', 'B006', 'B007', 'B008', 'B009A', 'B009B', 'B009C', 'B009D', 'B009E', 'B009F', 'B0101', 'B0102', 'B0103', 'B0104', 'B0105', 'B0106', 'B011', 'C001', 'C002', 'C003', 'C004', 'C005', 'C0051', 'C0052', 'C0053', 'C006', 'C007', 'C007A', 'C007B', 'C007C', 'C007D', 'C007E', 'C007E1', 'C007E2', 'C007F', 'C008', 'C009', 'C009A', 'C010', 'C0101', 'C01011', 'C01012', 'C0102', 'C01021', 'C01022', 'C0103', 'C0104', 'C011A', 'C011A1', 'C011A11', 'C011A12', 'C011A2', 'C011A21', 'C011A22', 'C012', 'C013', 'C014', 'C015', 'C016', 'C017A', 'D0011', 'D0013', 'D0021', 'D0023', 'D0031', 'D0033', 'D0041', 'D0043', 'D0051', 'D0053', 'D0061', 'D0063', 'D0071', 'D0073', 'E001', 'E0021', 'E0022', 'E0023', 'E0024', 'F001', 'F0021', 'F0022', 'F002A1', 'F002A2', 'F002A3', 'F002A4', 'F002A5', 'F0061', 'F006'] colunas\n",
      "+----+---+-------+-------+-----+-----+-----+-----+-------+---------+-----+-----+------+------------+------------+------+----+-----+------+------+------+----+----+----+----+----+----+----+----+-----+-----+-----+-----+-----+-----+-----+-----+-----+------+------+------+------+----+-----+-----+-----+-----+-----+-----+-----+-----+-----+-----+-----+-----+-----+----+----+----+----+-----+-----+-----+-----+-----+-----+-----+-----+-----+-----+-----+-----+----+----+----+----+----+----+-----+-----+-----+----+----+-----+-----+-----+-----+-----+------+------+-----+----+----+-----+----+-----+------+--------+-----+------+------+-----+-----+-----+------+-------+--------+------+-------+-------+----+----+----+----+----+-----+-----+--------+-----+-----+-----+-----+-----+--------+-----+--------+-----+-----+-----+-----+----+-----+-----+-----+-----+----+-----+-----+------+------+------+------+------+-----+----+\n",
      "| Ano| UF|CAPITAL|RM_RIDE|V1008|V1012|V1013|V1016|Estrato|      UPA|V1022|V1023| V1030|       V1031|       V1032|posest|A001|A001A|A001B1|A001B2|A001B3|A002|A003|A004|A005|A006|A007|A008|A009|B0011|B0012|B0013|B0014|B0015|B0016|B0017|B0018|B0019|B00110|B00111|B00112|B00113|B002|B0031|B0032|B0033|B0034|B0035|B0036|B0037|B0041|B0042|B0043|B0044|B0045|B0046|B005|B006|B007|B008|B009A|B009B|B009C|B009D|B009E|B009F|B0101|B0102|B0103|B0104|B0105|B0106|B011|C001|C002|C003|C004|C005|C0051|C0052|C0053|C006|C007|C007A|C007B|C007C|C007D|C007E|C007E1|C007E2|C007F|C008|C009|C009A|C010|C0101|C01011|  C01012|C0102|C01021|C01022|C0103|C0104|C011A|C011A1|C011A11| C011A12|C011A2|C011A21|C011A22|C012|C013|C014|C015|C016|C017A|D0011|   D0013|D0021|D0023|D0031|D0033|D0041|   D0043|D0051|   D0053|D0061|D0063|D0071|D0073|E001|E0021|E0022|E0023|E0024|F001|F0021|F0022|F002A1|F002A2|F002A3|F002A4|F002A5|F0061|F006|\n",
      "+----+---+-------+-------+-----+-----+-----+-----+-------+---------+-----+-----+------+------------+------------+------+----+-----+------+------+------+----+----+----+----+----+----+----+----+-----+-----+-----+-----+-----+-----+-----+-----+-----+------+------+------+------+----+-----+-----+-----+-----+-----+-----+-----+-----+-----+-----+-----+-----+-----+----+----+----+----+-----+-----+-----+-----+-----+-----+-----+-----+-----+-----+-----+-----+----+----+----+----+----+----+-----+-----+-----+----+----+-----+-----+-----+-----+-----+------+------+-----+----+----+-----+----+-----+------+--------+-----+------+------+-----+-----+-----+------+-------+--------+------+-------+-------+----+----+----+----+----+-----+-----+--------+-----+-----+-----+-----+-----+--------+-----+--------+-----+-----+-----+-----+----+-----+-----+-----+-----+----+-----+-----+------+------+------+------+------+-----+----+\n",
      "|2020| 11|     11|   NULL|   01|    4|   09|    5|1110011|110015970|    1|    1|152677|133.93337786|164.20936068|  1114|  01|   01|    05|    08|  1984| 036|   1|   4|   5|NULL|NULL|NULL|NULL|    2|    2|    2|    2|    2|    2|    2|    2|    2|     2|     2|     2|     2|NULL| NULL| NULL| NULL| NULL| NULL| NULL| NULL| NULL| NULL| NULL| NULL| NULL| NULL|NULL|NULL|   1|   2| NULL| NULL| NULL| NULL| NULL| NULL|    2|    2|    2|    2|    2|    2|   2|   1|NULL|NULL|NULL|NULL| NULL| NULL| NULL|   2|  04| NULL|    1|   35|   06| NULL|  NULL|  NULL| NULL| 048| 048| NULL|   1|    1|    04|00001045| NULL|  NULL|  NULL| NULL| NULL|    1|     1|     04|00001045|  NULL|   NULL|   NULL|   1|NULL|NULL|NULL|NULL| NULL|    2|    NULL|    2| NULL|    2| NULL|    2|    NULL|    1|00001200|    2| NULL|    2| NULL|   3| NULL| NULL| NULL| NULL|   1| NULL| NULL|     1|     1|     1|     2|     1|    1|  01|\n",
      "|2020| 11|     11|   NULL|   01|    4|   09|    5|1110011|110015970|    1|    1|150642|133.93337786|166.94461021|  1124|  02|   02|    18|    08|  1990| 030|   2|   4|   7|NULL|NULL|NULL|NULL|    2|    2|    2|    2|    2|    2|    2|    2|    2|     2|     2|     2|     2|NULL| NULL| NULL| NULL| NULL| NULL| NULL| NULL| NULL| NULL| NULL| NULL| NULL| NULL|NULL|NULL|   2|   2| NULL| NULL| NULL| NULL| NULL| NULL|    2|    2|    2|    2|    2|    2|   2|   1|NULL|NULL|NULL|NULL| NULL| NULL| NULL|   2|  07| NULL| NULL|   27|   20| NULL|  NULL|  NULL| NULL| 036| 036|    2|   1|    1|    04|00001045| NULL|  NULL|  NULL| NULL| NULL|    1|     1|     04|00001045|  NULL|   NULL|   NULL|   1|NULL|   2|NULL|NULL| NULL|    2|    NULL|    2| NULL|    2| NULL|    2|    NULL|    1|00001200|    2| NULL|    2| NULL|   3| NULL| NULL| NULL| NULL|   1| NULL| NULL|     1|     1|     1|     2|     1|    1|  01|\n",
      "|2020| 11|     11|   NULL|   01|    4|   09|    5|1110011|110015970|    1|    1|145237|133.93337786|171.88775372|  1112|  03|   04|    25|    12|  2006| 013|   1|   4|   2|   1|   1|   5|   3|    2|    2|    2|    2|    2|    2|    2|    2|    2|     2|     2|     2|     2|NULL| NULL| NULL| NULL| NULL| NULL| NULL| NULL| NULL| NULL| NULL| NULL| NULL| NULL|NULL|NULL|   1|   2| NULL| NULL| NULL| NULL| NULL| NULL|    2|    2|    2|    2|    2|    2|   4|NULL|NULL|NULL|NULL|NULL| NULL| NULL| NULL|NULL|NULL| NULL| NULL| NULL| NULL| NULL|  NULL|  NULL| NULL|NULL|NULL| NULL|NULL| NULL|  NULL|    NULL| NULL|  NULL|  NULL| NULL| NULL| NULL|  NULL|   NULL|    NULL|  NULL|   NULL|   NULL|NULL|NULL|NULL|NULL|NULL| NULL|    2|    NULL|    2| NULL|    2| NULL|    2|    NULL|    1|00001200|    2| NULL|    2| NULL|   3| NULL| NULL| NULL| NULL|   1| NULL| NULL|     1|     1|     1|     2|     1|    1|  01|\n",
      "|2020| 11|     11|   NULL|   01|    4|   09|    5|1110011|110015970|    1|    1|145237|133.93337786|171.88775372|  1112|  04|   04|    24|    08|  2009| 011|   1|   4|   2|   1|   1|   5|   3|    2|    2|    2|    2|    2|    2|    2|    2|    2|     2|     2|     2|     2|NULL| NULL| NULL| NULL| NULL| NULL| NULL| NULL| NULL| NULL| NULL| NULL| NULL| NULL|NULL|NULL|   1|   2| NULL| NULL| NULL| NULL| NULL| NULL|    2|    2|    2|    2|    2|    2|   4|NULL|NULL|NULL|NULL|NULL| NULL| NULL| NULL|NULL|NULL| NULL| NULL| NULL| NULL| NULL|  NULL|  NULL| NULL|NULL|NULL| NULL|NULL| NULL|  NULL|    NULL| NULL|  NULL|  NULL| NULL| NULL| NULL|  NULL|   NULL|    NULL|  NULL|   NULL|   NULL|NULL|NULL|NULL|NULL|NULL| NULL|    2|    NULL|    2| NULL|    2| NULL|    2|    NULL|    1|00001200|    2| NULL|    2| NULL|   3| NULL| NULL| NULL| NULL|   1| NULL| NULL|     1|     1|     1|     2|     1|    1|  01|\n",
      "|2020| 11|     11|   NULL|   02|    1|   09|    5|1110011|110015970|    1|    1| 91889|133.93337786|127.53668218|  1126|  01|   01|    18|    05|  1963| 057|   2|   1|   2|NULL|NULL|NULL|NULL|    2|    2|    2|    2|    2|    2|    2|    2|    2|     2|     2|     2|     2|NULL| NULL| NULL| NULL| NULL| NULL| NULL| NULL| NULL| NULL| NULL| NULL| NULL| NULL|NULL|NULL|   2|   2| NULL| NULL| NULL| NULL| NULL| NULL|    2|    2|    2|    2|    2|    2|   2|   2|   2|NULL|NULL|NULL| NULL| NULL| NULL|NULL|NULL| NULL| NULL| NULL| NULL| NULL|  NULL|  NULL| NULL|NULL|NULL| NULL|NULL| NULL|  NULL|    NULL| NULL|  NULL|  NULL| NULL| NULL| NULL|  NULL|   NULL|    NULL|  NULL|   NULL|   NULL|NULL|NULL|   2|   2|  01|    1|    2|    NULL|    2| NULL|    2| NULL|    1|00001045|    2|    NULL|    2| NULL|    2| NULL|   3| NULL| NULL| NULL| NULL|   1| NULL| NULL|     1|     1|     1|     2|     1|    1|  01|\n",
      "|2020| 11|     11|   NULL|   03|    2|   09|    5|1110011|110015970|    1|    1| 91889|133.93337786|127.53668218|  1126|  01|   01|    25|    12|  1961| 058|   2|   2|   1|NULL|NULL|NULL|NULL|    2|    2|    2|    2|    2|    2|    2|    2|    2|     2|     2|     2|     2|NULL| NULL| NULL| NULL| NULL| NULL| NULL| NULL| NULL| NULL| NULL| NULL| NULL| NULL|NULL|NULL|   2|   2| NULL| NULL| NULL| NULL| NULL| NULL|    1|    1|    2|    2|    2|    2|   3|   1|NULL|NULL|NULL|NULL| NULL| NULL| NULL|   2|  07| NULL| NULL|   36|   25| NULL|  NULL|  NULL| NULL| 040| 040| NULL|   1|    1|    00|00000100| NULL|  NULL|  NULL| NULL| NULL|    1|     1|     00|00000060|  NULL|   NULL|   NULL|   1|NULL|   2|NULL|NULL| NULL|    1|00001045|    2| NULL|    2| NULL|    2|    NULL|    2|    NULL|    2| NULL|    2| NULL|   3| NULL| NULL| NULL| NULL|   1| NULL| NULL|     1|     1|     1|     2|     1|    1|  01|\n",
      "|2020| 11|     11|   NULL|   04|    4|   09|    5|1110011|110015970|    1|    1|123242|133.93337786|164.39829286|  1115|  01|   01|    18|    02|  1973| 047|   1|   4|   2|NULL|NULL|NULL|NULL|    2|    2|    2|    2|    2|    2|    2|    2|    2|     2|     2|     2|     2|NULL| NULL| NULL| NULL| NULL| NULL| NULL| NULL| NULL| NULL| NULL| NULL| NULL| NULL|NULL|NULL|   2|   2| NULL| NULL| NULL| NULL| NULL| NULL|    2|    2|    2|    2|    2|    2|   2|   1|NULL|NULL|NULL|NULL| NULL| NULL| NULL|   2|  07| NULL| NULL|   18|   05| NULL|  NULL|  NULL| NULL| 040| 020|    1|   1|    1|    04|00001500| NULL|  NULL|  NULL| NULL| NULL|    1|     1|     02|00000600|  NULL|   NULL|   NULL|   1|NULL|   2|NULL|NULL| NULL|    2|    NULL|    2| NULL|    2| NULL|    2|    NULL|    1|00000600|    2| NULL|    2| NULL|   3| NULL| NULL| NULL| NULL|   1| NULL| NULL|     1|     1|     1|     2|     1|    1|  01|\n",
      "|2020| 11|     11|   NULL|   04|    4|   09|    5|1110011|110015970|    1|    1|139056|133.93337786|163.71468056|  1122|  04|   05|    99|    99|  9999| 018|   2|   4|   2|   2|NULL|NULL|NULL|    2|    2|    2|    2|    2|    2|    2|    2|    2|     2|     2|     2|     2|NULL| NULL| NULL| NULL| NULL| NULL| NULL| NULL| NULL| NULL| NULL| NULL| NULL| NULL|NULL|NULL|   2|   2| NULL| NULL| NULL| NULL| NULL| NULL|    2|    2|    2|    2|    2|    2|   3|   2|   2|NULL|NULL|NULL| NULL| NULL| NULL|NULL|NULL| NULL| NULL| NULL| NULL| NULL|  NULL|  NULL| NULL|NULL|NULL| NULL|NULL| NULL|  NULL|    NULL| NULL|  NULL|  NULL| NULL| NULL| NULL|  NULL|   NULL|    NULL|  NULL|   NULL|   NULL|NULL|NULL|   2|   2|  03|    2|    2|    NULL|    2| NULL|    2| NULL|    2|    NULL|    1|00000600|    2| NULL|    2| NULL|   3| NULL| NULL| NULL| NULL|   1| NULL| NULL|     1|     1|     1|     2|     1|    1|  01|\n",
      "|2020| 11|     11|   NULL|   04|    4|   09|    5|1110011|110015970|    1|    1|145237|133.93337786|171.88775372|  1112|  07|   05|    99|    99|  9999| 011|   1|   4|   2|   1|   4|NULL|NULL|    2|    2|    2|    2|    2|    2|    2|    2|    2|     2|     2|     2|     2|NULL| NULL| NULL| NULL| NULL| NULL| NULL| NULL| NULL| NULL| NULL| NULL| NULL| NULL|NULL|NULL|   2|   2| NULL| NULL| NULL| NULL| NULL| NULL|    2|    2|    2|    2|    2|    2|   4|NULL|NULL|NULL|NULL|NULL| NULL| NULL| NULL|NULL|NULL| NULL| NULL| NULL| NULL| NULL|  NULL|  NULL| NULL|NULL|NULL| NULL|NULL| NULL|  NULL|    NULL| NULL|  NULL|  NULL| NULL| NULL| NULL|  NULL|   NULL|    NULL|  NULL|   NULL|   NULL|NULL|NULL|NULL|NULL|NULL| NULL|    2|    NULL|    2| NULL|    2| NULL|    2|    NULL|    1|00000600|    2| NULL|    2| NULL|   3| NULL| NULL| NULL| NULL|   1| NULL| NULL|     1|     1|     1|     2|     1|    1|  01|\n",
      "|2020| 11|     11|   NULL|   04|    4|   09|    5|1110011|110015970|    1|    1|134071|133.93337786|170.11202829|  1121|  09|   05|    99|    99|  9999| 009|   2|   4|   2|   1|   4|NULL|NULL|    2|    2|    2|    2|    2|    2|    2|    2|    2|     2|     2|     2|     2|NULL| NULL| NULL| NULL| NULL| NULL| NULL| NULL| NULL| NULL| NULL| NULL| NULL| NULL|NULL|NULL|   2|   2| NULL| NULL| NULL| NULL| NULL| NULL|    2|    2|    2|    2|    2|    2|   4|NULL|NULL|NULL|NULL|NULL| NULL| NULL| NULL|NULL|NULL| NULL| NULL| NULL| NULL| NULL|  NULL|  NULL| NULL|NULL|NULL| NULL|NULL| NULL|  NULL|    NULL| NULL|  NULL|  NULL| NULL| NULL| NULL|  NULL|   NULL|    NULL|  NULL|   NULL|   NULL|NULL|NULL|NULL|NULL|NULL| NULL|    2|    NULL|    2| NULL|    2| NULL|    2|    NULL|    1|00000600|    2| NULL|    2| NULL|   3| NULL| NULL| NULL| NULL|   1| NULL| NULL|     1|     1|     1|     2|     1|    1|  01|\n",
      "+----+---+-------+-------+-----+-----+-----+-----+-------+---------+-----+-----+------+------------+------------+------+----+-----+------+------+------+----+----+----+----+----+----+----+----+-----+-----+-----+-----+-----+-----+-----+-----+-----+------+------+------+------+----+-----+-----+-----+-----+-----+-----+-----+-----+-----+-----+-----+-----+-----+----+----+----+----+-----+-----+-----+-----+-----+-----+-----+-----+-----+-----+-----+-----+----+----+----+----+----+----+-----+-----+-----+----+----+-----+-----+-----+-----+-----+------+------+-----+----+----+-----+----+-----+------+--------+-----+------+------+-----+-----+-----+------+-------+--------+------+-------+-------+----+----+----+----+----+-----+-----+--------+-----+-----+-----+-----+-----+--------+-----+--------+-----+-----+-----+-----+----+-----+-----+-----+-----+----+-----+-----+------+------+------+------+------+-----+----+\n",
      "only showing top 10 rows\n",
      "\n"
     ]
    },
    {
     "name": "stderr",
     "output_type": "stream",
     "text": [
      "                                                                                \r"
     ]
    },
    {
     "name": "stdout",
     "output_type": "stream",
     "text": [
      "  ✅ Tabela bronze.raw_pnad_covid_092020 criada com sucesso!\n",
      "\n",
      "  --------------------------------------------------\n",
      "\n",
      "\n",
      "== Criação das tabelas concluída == \n",
      "  Arquivo: raw/PNAD_COVID_102020.csv\n",
      "  JDBC_URL: jdbc:postgresql://tech-challenge-3-ibge.c18mok42i31i.us-east-1.rds.amazonaws.com:5432/tech-challenge-3-ibge\n",
      "  Nome da tabela: bronze.raw_pnad_covid_102020\n",
      "  Postgres Propriedades: {'user': 'postgres', 'password': 'postgres', 'driver': 'org.postgresql.Driver'}\n",
      "\n"
     ]
    },
    {
     "name": "stderr",
     "output_type": "stream",
     "text": [
      "                                                                                \r"
     ]
    },
    {
     "name": "stdout",
     "output_type": "stream",
     "text": [
      "  Dados carregados no DF: 380461 linhas | ['Ano', 'UF', 'CAPITAL', 'RM_RIDE', 'V1008', 'V1012', 'V1013', 'V1016', 'Estrato', 'UPA', 'V1022', 'V1023', 'V1030', 'V1031', 'V1032', 'posest', 'A001', 'A001A', 'A001B1', 'A001B2', 'A001B3', 'A002', 'A003', 'A004', 'A005', 'A006', 'A007', 'A008', 'A009', 'B0011', 'B0012', 'B0013', 'B0014', 'B0015', 'B0016', 'B0017', 'B0018', 'B0019', 'B00110', 'B00111', 'B00112', 'B00113', 'B002', 'B0031', 'B0032', 'B0033', 'B0034', 'B0035', 'B0036', 'B0037', 'B0041', 'B0042', 'B0043', 'B0044', 'B0045', 'B0046', 'B005', 'B006', 'B007', 'B008', 'B009A', 'B009B', 'B009C', 'B009D', 'B009E', 'B009F', 'B0101', 'B0102', 'B0103', 'B0104', 'B0105', 'B0106', 'B011', 'C001', 'C002', 'C003', 'C004', 'C005', 'C0051', 'C0052', 'C0053', 'C006', 'C007', 'C007A', 'C007B', 'C007C', 'C007D', 'C007E', 'C007E1', 'C007E2', 'C007F', 'C008', 'C009', 'C009A', 'C010', 'C0101', 'C01011', 'C01012', 'C0102', 'C01021', 'C01022', 'C0103', 'C0104', 'C011A', 'C011A1', 'C011A11', 'C011A12', 'C011A2', 'C011A21', 'C011A22', 'C012', 'C013', 'C014', 'C015', 'C016', 'C017A', 'D0011', 'D0013', 'D0021', 'D0023', 'D0031', 'D0033', 'D0041', 'D0043', 'D0051', 'D0053', 'D0061', 'D0063', 'D0071', 'D0073', 'E001', 'E0021', 'E0022', 'E0023', 'E0024', 'F001', 'F0021', 'F0022', 'F002A1', 'F002A2', 'F002A3', 'F002A4', 'F002A5', 'F0061', 'F006'] colunas\n",
      "+----+---+-------+-------+-----+-----+-----+-----+-------+---------+-----+-----+------+------------+------------+------+----+-----+------+------+------+----+----+----+----+----+----+----+----+-----+-----+-----+-----+-----+-----+-----+-----+-----+------+------+------+------+----+-----+-----+-----+-----+-----+-----+-----+-----+-----+-----+-----+-----+-----+----+----+----+----+-----+-----+-----+-----+-----+-----+-----+-----+-----+-----+-----+-----+----+----+----+----+----+----+-----+-----+-----+----+----+-----+-----+-----+-----+-----+------+------+-----+----+----+-----+----+-----+------+--------+-----+------+------+-----+-----+-----+------+-------+--------+------+-------+-------+----+----+----+----+----+-----+-----+--------+-----+-----+-----+-----+-----+--------+-----+--------+-----+-----+-----+-----+----+-----+-----+-----+-----+----+-----+-----+------+------+------+------+------+-----+----+\n",
      "| Ano| UF|CAPITAL|RM_RIDE|V1008|V1012|V1013|V1016|Estrato|      UPA|V1022|V1023| V1030|       V1031|       V1032|posest|A001|A001A|A001B1|A001B2|A001B3|A002|A003|A004|A005|A006|A007|A008|A009|B0011|B0012|B0013|B0014|B0015|B0016|B0017|B0018|B0019|B00110|B00111|B00112|B00113|B002|B0031|B0032|B0033|B0034|B0035|B0036|B0037|B0041|B0042|B0043|B0044|B0045|B0046|B005|B006|B007|B008|B009A|B009B|B009C|B009D|B009E|B009F|B0101|B0102|B0103|B0104|B0105|B0106|B011|C001|C002|C003|C004|C005|C0051|C0052|C0053|C006|C007|C007A|C007B|C007C|C007D|C007E|C007E1|C007E2|C007F|C008|C009|C009A|C010|C0101|C01011|  C01012|C0102|C01021|C01022|C0103|C0104|C011A|C011A1|C011A11| C011A12|C011A2|C011A21|C011A22|C012|C013|C014|C015|C016|C017A|D0011|   D0013|D0021|D0023|D0031|D0033|D0041|   D0043|D0051|   D0053|D0061|D0063|D0071|D0073|E001|E0021|E0022|E0023|E0024|F001|F0021|F0022|F002A1|F002A2|F002A3|F002A4|F002A5|F0061|F006|\n",
      "+----+---+-------+-------+-----+-----+-----+-----+-------+---------+-----+-----+------+------------+------------+------+----+-----+------+------+------+----+----+----+----+----+----+----+----+-----+-----+-----+-----+-----+-----+-----+-----+-----+------+------+------+------+----+-----+-----+-----+-----+-----+-----+-----+-----+-----+-----+-----+-----+-----+----+----+----+----+-----+-----+-----+-----+-----+-----+-----+-----+-----+-----+-----+-----+----+----+----+----+----+----+-----+-----+-----+----+----+-----+-----+-----+-----+-----+------+------+-----+----+----+-----+----+-----+------+--------+-----+------+------+-----+-----+-----+------+-------+--------+------+-------+-------+----+----+----+----+----+-----+-----+--------+-----+-----+-----+-----+-----+--------+-----+--------+-----+-----+-----+-----+----+-----+-----+-----+-----+----+-----+-----+------+------+------+------+------+-----+----+\n",
      "|2020| 11|     11|   NULL|   01|    4|   10|    6|1110011|110015970|    1|    1|152790|122.75397639| 143.7459631|  1114|  01|   01|    05|    08|  1984| 036|   1|   4|   5|NULL|NULL|NULL|NULL|    2|    2|    2|    2|    2|    2|    2|    2|    2|     2|     2|     2|     2|NULL| NULL| NULL| NULL| NULL| NULL| NULL| NULL| NULL| NULL| NULL| NULL| NULL| NULL|NULL|NULL|   1|   2| NULL| NULL| NULL| NULL| NULL| NULL|    2|    2|    2|    2|    2|    2|   2|   1|NULL|NULL|NULL|NULL| NULL| NULL| NULL|   2|  04| NULL|    1|   35|   06| NULL|  NULL|  NULL| NULL| 048| 048| NULL|   1|    1|    04|00001045| NULL|  NULL|  NULL| NULL| NULL|    1|     1|     04|00001045|  NULL|   NULL|   NULL|   1|NULL|NULL|NULL|NULL| NULL|    2|    NULL|    2| NULL|    2| NULL|    2|    NULL|    1|00001200|    2| NULL|    2| NULL|   3| NULL| NULL| NULL| NULL|   1| NULL| NULL|     1|     1|     1|     2|     1|    1|  01|\n",
      "|2020| 11|     11|   NULL|   01|    4|   10|    6|1110011|110015970|    1|    1|150739|122.75397639|148.52050973|  1124|  02|   02|    18|    08|  1990| 030|   2|   4|   7|NULL|NULL|NULL|NULL|    2|    2|    2|    2|    2|    2|    2|    2|    2|     2|     2|     2|     2|NULL| NULL| NULL| NULL| NULL| NULL| NULL| NULL| NULL| NULL| NULL| NULL| NULL| NULL|NULL|NULL|   2|   2| NULL| NULL| NULL| NULL| NULL| NULL|    2|    2|    2|    2|    2|    2|   2|   1|NULL|NULL|NULL|NULL| NULL| NULL| NULL|   2|  07| NULL| NULL|   27|   20| NULL|  NULL|  NULL| NULL| 036| 036|    2|   1|    1|    04|00001045| NULL|  NULL|  NULL| NULL| NULL|    1|     1|     04|00001045|  NULL|   NULL|   NULL|   1|NULL|   2|NULL|NULL| NULL|    2|    NULL|    2| NULL|    2| NULL|    2|    NULL|    1|00001200|    2| NULL|    2| NULL|   3| NULL| NULL| NULL| NULL|   1| NULL| NULL|     1|     1|     1|     2|     1|    1|  01|\n",
      "|2020| 11|     11|   NULL|   01|    4|   10|    6|1110011|110015970|    1|    1|144993|122.75397639|158.31081955|  1112|  03|   04|    25|    12|  2006| 013|   1|   4|   2|   1|   1|   5|   3|    2|    2|    2|    2|    2|    2|    2|    2|    2|     2|     2|     2|     2|NULL| NULL| NULL| NULL| NULL| NULL| NULL| NULL| NULL| NULL| NULL| NULL| NULL| NULL|NULL|NULL|   1|   2| NULL| NULL| NULL| NULL| NULL| NULL|    2|    2|    2|    2|    2|    2|   4|NULL|NULL|NULL|NULL|NULL| NULL| NULL| NULL|NULL|NULL| NULL| NULL| NULL| NULL| NULL|  NULL|  NULL| NULL|NULL|NULL| NULL|NULL| NULL|  NULL|    NULL| NULL|  NULL|  NULL| NULL| NULL| NULL|  NULL|   NULL|    NULL|  NULL|   NULL|   NULL|NULL|NULL|NULL|NULL|NULL| NULL|    2|    NULL|    2| NULL|    2| NULL|    2|    NULL|    1|00001200|    2| NULL|    2| NULL|   3| NULL| NULL| NULL| NULL|   1| NULL| NULL|     1|     1|     1|     2|     1|    1|  01|\n",
      "|2020| 11|     11|   NULL|   01|    4|   10|    6|1110011|110015970|    1|    1|144993|122.75397639|158.31081955|  1112|  04|   04|    24|    08|  2009| 011|   1|   4|   2|   1|   1|   5|   3|    2|    2|    2|    2|    2|    2|    2|    2|    2|     2|     2|     2|     2|NULL| NULL| NULL| NULL| NULL| NULL| NULL| NULL| NULL| NULL| NULL| NULL| NULL| NULL|NULL|NULL|   1|   2| NULL| NULL| NULL| NULL| NULL| NULL|    2|    2|    2|    2|    2|    2|   4|NULL|NULL|NULL|NULL|NULL| NULL| NULL| NULL|NULL|NULL| NULL| NULL| NULL| NULL| NULL|  NULL|  NULL| NULL|NULL|NULL| NULL|NULL| NULL|  NULL|    NULL| NULL|  NULL|  NULL| NULL| NULL| NULL|  NULL|   NULL|    NULL|  NULL|   NULL|   NULL|NULL|NULL|NULL|NULL|NULL| NULL|    2|    NULL|    2| NULL|    2| NULL|    2|    NULL|    1|00001200|    2| NULL|    2| NULL|   3| NULL| NULL| NULL| NULL|   1| NULL| NULL|     1|     1|     1|     2|     1|    1|  01|\n",
      "|2020| 11|     11|   NULL|   02|    1|   10|    6|1110011|110015970|    1|    1| 92130|122.75397639| 123.6186403|  1126|  01|   01|    18|    05|  1963| 057|   2|   1|   2|NULL|NULL|NULL|NULL|    2|    2|    2|    2|    2|    2|    2|    2|    2|     2|     2|     2|     2|NULL| NULL| NULL| NULL| NULL| NULL| NULL| NULL| NULL| NULL| NULL| NULL| NULL| NULL|NULL|NULL|   2|   2| NULL| NULL| NULL| NULL| NULL| NULL|    2|    2|    2|    2|    2|    2|   3|   2|   2|NULL|NULL|NULL| NULL| NULL| NULL|NULL|NULL| NULL| NULL| NULL| NULL| NULL|  NULL|  NULL| NULL|NULL|NULL| NULL|NULL| NULL|  NULL|    NULL| NULL|  NULL|  NULL| NULL| NULL| NULL|  NULL|   NULL|    NULL|  NULL|   NULL|   NULL|NULL|NULL|   2|   2|  01|    1|    2|    NULL|    2| NULL|    2| NULL|    1|00001045|    2|    NULL|    2| NULL|    2| NULL|   3| NULL| NULL| NULL| NULL|   1| NULL| NULL|     1|     1|     1|     2|     1|    1|  01|\n",
      "|2020| 11|     11|   NULL|   03|    2|   10|    6|1110011|110015970|    1|    1| 92130|122.75397639| 123.6186403|  1126|  01|   01|    25|    12|  1961| 058|   2|   2|   1|NULL|NULL|NULL|NULL|    2|    2|    2|    2|    2|    2|    2|    2|    2|     2|     2|     2|     2|NULL| NULL| NULL| NULL| NULL| NULL| NULL| NULL| NULL| NULL| NULL| NULL| NULL| NULL|NULL|NULL|   2|   2| NULL| NULL| NULL| NULL| NULL| NULL|    1|    1|    2|    2|    2|    2|   3|   1|NULL|NULL|NULL|NULL| NULL| NULL| NULL|   2|  07| NULL| NULL|   20|   25| NULL|  NULL|  NULL| NULL| 030| 030|    2|   1|    1|    01|00000200| NULL|  NULL|  NULL| NULL| NULL|    1|     1|     00|00000085|  NULL|   NULL|   NULL|   1|NULL|   2|NULL|NULL| NULL|    1|00001045|    2| NULL|    2| NULL|    2|    NULL|    2|    NULL|    2| NULL|    2| NULL|   3| NULL| NULL| NULL| NULL|   1| NULL| NULL|     1|     1|     1|     2|     1|    1|  01|\n",
      "|2020| 11|     11|   NULL|   04|    4|   10|    6|1110011|110015970|    1|    1|123486|122.75397639| 153.6989627|  1115|  01|   01|    18|    02|  1973| 047|   1|   4|   2|NULL|NULL|NULL|NULL|    2|    2|    2|    2|    2|    2|    2|    2|    2|     2|     2|     2|     2|NULL| NULL| NULL| NULL| NULL| NULL| NULL| NULL| NULL| NULL| NULL| NULL| NULL| NULL|NULL|NULL|   2|   2| NULL| NULL| NULL| NULL| NULL| NULL|    2|    2|    2|    2|    2|    2|   2|   1|NULL|NULL|NULL|NULL| NULL| NULL| NULL|   2|  07| NULL| NULL|   18|   05| NULL|  NULL|  NULL| NULL| 040| 020|    1|   1|    1|    04|00001500| NULL|  NULL|  NULL| NULL| NULL|    1|     1|     02|00000600|  NULL|   NULL|   NULL|   1|NULL|   2|NULL|NULL| NULL|    2|    NULL|    2| NULL|    2| NULL|    2|    NULL|    1|00000600|    2| NULL|    2| NULL|   3| NULL| NULL| NULL| NULL|   1| NULL| NULL|     1|     1|     1|     2|     1|    1|  01|\n",
      "|2020| 11|     11|   NULL|   04|    4|   10|    6|1110011|110015970|    1|    1|138815|122.75397639|147.65287526|  1122|  04|   05|    99|    99|  9999| 018|   2|   4|   2|   2|NULL|NULL|NULL|    2|    2|    2|    2|    2|    2|    2|    2|    2|     2|     2|     2|     2|NULL| NULL| NULL| NULL| NULL| NULL| NULL| NULL| NULL| NULL| NULL| NULL| NULL| NULL|NULL|NULL|   2|   2| NULL| NULL| NULL| NULL| NULL| NULL|    2|    2|    2|    2|    2|    2|   3|   2|   2|NULL|NULL|NULL| NULL| NULL| NULL|NULL|NULL| NULL| NULL| NULL| NULL| NULL|  NULL|  NULL| NULL|NULL|NULL| NULL|NULL| NULL|  NULL|    NULL| NULL|  NULL|  NULL| NULL| NULL| NULL|  NULL|   NULL|    NULL|  NULL|   NULL|   NULL|NULL|NULL|   2|   2|  03|    2|    2|    NULL|    2| NULL|    2| NULL|    2|    NULL|    1|00000600|    2| NULL|    2| NULL|   3| NULL| NULL| NULL| NULL|   1| NULL| NULL|     1|     1|     1|     2|     1|    1|  01|\n",
      "|2020| 11|     11|   NULL|   04|    4|   10|    6|1110011|110015970|    1|    1|144993|122.75397639|158.31081955|  1112|  07|   05|    99|    99|  9999| 011|   1|   4|   2|   1|   4|NULL|NULL|    2|    2|    2|    2|    2|    2|    2|    2|    2|     2|     2|     2|     2|NULL| NULL| NULL| NULL| NULL| NULL| NULL| NULL| NULL| NULL| NULL| NULL| NULL| NULL|NULL|NULL|   2|   2| NULL| NULL| NULL| NULL| NULL| NULL|    2|    2|    2|    2|    2|    2|   4|NULL|NULL|NULL|NULL|NULL| NULL| NULL| NULL|NULL|NULL| NULL| NULL| NULL| NULL| NULL|  NULL|  NULL| NULL|NULL|NULL| NULL|NULL| NULL|  NULL|    NULL| NULL|  NULL|  NULL| NULL| NULL| NULL|  NULL|   NULL|    NULL|  NULL|   NULL|   NULL|NULL|NULL|NULL|NULL|NULL| NULL|    2|    NULL|    2| NULL|    2| NULL|    2|    NULL|    1|00000600|    2| NULL|    2| NULL|   3| NULL| NULL| NULL| NULL|   1| NULL| NULL|     1|     1|     1|     2|     1|    1|  01|\n",
      "|2020| 11|     11|   NULL|   04|    4|   10|    6|1110011|110015970|    1|    1|134141|122.75397639|162.98275892|  1121|  09|   05|    99|    99|  9999| 009|   2|   4|   2|   1|   4|NULL|NULL|    2|    2|    2|    2|    2|    2|    2|    2|    2|     2|     2|     2|     2|NULL| NULL| NULL| NULL| NULL| NULL| NULL| NULL| NULL| NULL| NULL| NULL| NULL| NULL|NULL|NULL|   2|   2| NULL| NULL| NULL| NULL| NULL| NULL|    2|    2|    2|    2|    2|    2|   4|NULL|NULL|NULL|NULL|NULL| NULL| NULL| NULL|NULL|NULL| NULL| NULL| NULL| NULL| NULL|  NULL|  NULL| NULL|NULL|NULL| NULL|NULL| NULL|  NULL|    NULL| NULL|  NULL|  NULL| NULL| NULL| NULL|  NULL|   NULL|    NULL|  NULL|   NULL|   NULL|NULL|NULL|NULL|NULL|NULL| NULL|    2|    NULL|    2| NULL|    2| NULL|    2|    NULL|    1|00000600|    2| NULL|    2| NULL|   3| NULL| NULL| NULL| NULL|   1| NULL| NULL|     1|     1|     1|     2|     1|    1|  01|\n",
      "+----+---+-------+-------+-----+-----+-----+-----+-------+---------+-----+-----+------+------------+------------+------+----+-----+------+------+------+----+----+----+----+----+----+----+----+-----+-----+-----+-----+-----+-----+-----+-----+-----+------+------+------+------+----+-----+-----+-----+-----+-----+-----+-----+-----+-----+-----+-----+-----+-----+----+----+----+----+-----+-----+-----+-----+-----+-----+-----+-----+-----+-----+-----+-----+----+----+----+----+----+----+-----+-----+-----+----+----+-----+-----+-----+-----+-----+------+------+-----+----+----+-----+----+-----+------+--------+-----+------+------+-----+-----+-----+------+-------+--------+------+-------+-------+----+----+----+----+----+-----+-----+--------+-----+-----+-----+-----+-----+--------+-----+--------+-----+-----+-----+-----+----+-----+-----+-----+-----+----+-----+-----+------+------+------+------+------+-----+----+\n",
      "only showing top 10 rows\n",
      "\n"
     ]
    },
    {
     "name": "stderr",
     "output_type": "stream",
     "text": [
      "                                                                                \r"
     ]
    },
    {
     "name": "stdout",
     "output_type": "stream",
     "text": [
      "  ✅ Tabela bronze.raw_pnad_covid_102020 criada com sucesso!\n",
      "\n",
      "  --------------------------------------------------\n",
      "\n",
      "\n",
      "== Criação das tabelas concluída == \n",
      "  Arquivo: raw/PNAD_COVID_112020.csv\n",
      "  JDBC_URL: jdbc:postgresql://tech-challenge-3-ibge.c18mok42i31i.us-east-1.rds.amazonaws.com:5432/tech-challenge-3-ibge\n",
      "  Nome da tabela: bronze.raw_pnad_covid_112020\n",
      "  Postgres Propriedades: {'user': 'postgres', 'password': 'postgres', 'driver': 'org.postgresql.Driver'}\n"
     ]
    },
    {
     "name": "stderr",
     "output_type": "stream",
     "text": [
      "                                                                                \r"
     ]
    },
    {
     "name": "stdout",
     "output_type": "stream",
     "text": [
      "\n"
     ]
    },
    {
     "name": "stderr",
     "output_type": "stream",
     "text": [
      "                                                                                \r"
     ]
    },
    {
     "name": "stdout",
     "output_type": "stream",
     "text": [
      "  Dados carregados no DF: 381438 linhas | ['Ano', 'UF', 'CAPITAL', 'RM_RIDE', 'V1008', 'V1012', 'V1013', 'V1016', 'Estrato', 'UPA', 'V1022', 'V1023', 'V1030', 'V1031', 'V1032', 'posest', 'A001', 'A001A', 'A001B1', 'A001B2', 'A001B3', 'A002', 'A003', 'A004', 'A005', 'A006', 'A006A', 'A006B', 'A007', 'A007A', 'A008', 'A009', 'B0011', 'B0012', 'B0013', 'B0014', 'B0015', 'B0016', 'B0017', 'B0018', 'B0019', 'B00110', 'B00111', 'B00112', 'B00113', 'B002', 'B0031', 'B0032', 'B0033', 'B0034', 'B0035', 'B0036', 'B0037', 'B0041', 'B0042', 'B0043', 'B0044', 'B0045', 'B0046', 'B005', 'B006', 'B007', 'B008', 'B009A', 'B009B', 'B009C', 'B009D', 'B009E', 'B009F', 'B0101', 'B0102', 'B0103', 'B0104', 'B0105', 'B0106', 'B011', 'C001', 'C002', 'C003', 'C004', 'C005', 'C0051', 'C0052', 'C0053', 'C006', 'C007', 'C007A', 'C007B', 'C007C', 'C007D', 'C007E', 'C007E1', 'C007E2', 'C007F', 'C008', 'C009', 'C009A', 'C010', 'C0101', 'C01011', 'C01012', 'C0102', 'C01021', 'C01022', 'C0103', 'C0104', 'C011A', 'C011A1', 'C011A11', 'C011A12', 'C011A2', 'C011A21', 'C011A22', 'C012', 'C013', 'C014', 'C015', 'C016', 'C017A', 'D0011', 'D0013', 'D0021', 'D0023', 'D0031', 'D0033', 'D0041', 'D0043', 'D0051', 'D0053', 'D0061', 'D0063', 'D0071', 'D0073', 'E001', 'E0021', 'E0022', 'E0023', 'E0024', 'F001', 'F0021', 'F0022', 'F002A1', 'F002A2', 'F002A3', 'F002A4', 'F002A5', 'F0061', 'F006'] colunas\n"
     ]
    },
    {
     "name": "stderr",
     "output_type": "stream",
     "text": [
      "                                                                                \r"
     ]
    },
    {
     "name": "stdout",
     "output_type": "stream",
     "text": [
      "+----+---+-------+-------+-----+-----+-----+-----+-------+---------+-----+-----+------+------------+------------+------+----+-----+------+------+------+----+----+----+----+----+-----+-----+----+-----+----+----+-----+-----+-----+-----+-----+-----+-----+-----+-----+------+------+------+------+----+-----+-----+-----+-----+-----+-----+-----+-----+-----+-----+-----+-----+-----+----+----+----+----+-----+-----+-----+-----+-----+-----+-----+-----+-----+-----+-----+-----+----+----+----+----+----+----+-----+-----+-----+----+----+-----+-----+-----+-----+-----+------+------+-----+----+----+-----+----+-----+------+--------+-----+------+------+-----+-----+-----+------+-------+--------+------+-------+-------+----+----+----+----+----+-----+-----+--------+-----+-----+-----+-----+-----+--------+-----+--------+-----+-----+-----+-----+----+-----+-----+-----+-----+----+-----+-----+------+------+------+------+------+-----+----+\n",
      "| Ano| UF|CAPITAL|RM_RIDE|V1008|V1012|V1013|V1016|Estrato|      UPA|V1022|V1023| V1030|       V1031|       V1032|posest|A001|A001A|A001B1|A001B2|A001B3|A002|A003|A004|A005|A006|A006A|A006B|A007|A007A|A008|A009|B0011|B0012|B0013|B0014|B0015|B0016|B0017|B0018|B0019|B00110|B00111|B00112|B00113|B002|B0031|B0032|B0033|B0034|B0035|B0036|B0037|B0041|B0042|B0043|B0044|B0045|B0046|B005|B006|B007|B008|B009A|B009B|B009C|B009D|B009E|B009F|B0101|B0102|B0103|B0104|B0105|B0106|B011|C001|C002|C003|C004|C005|C0051|C0052|C0053|C006|C007|C007A|C007B|C007C|C007D|C007E|C007E1|C007E2|C007F|C008|C009|C009A|C010|C0101|C01011|  C01012|C0102|C01021|C01022|C0103|C0104|C011A|C011A1|C011A11| C011A12|C011A2|C011A21|C011A22|C012|C013|C014|C015|C016|C017A|D0011|   D0013|D0021|D0023|D0031|D0033|D0041|   D0043|D0051|   D0053|D0061|D0063|D0071|D0073|E001|E0021|E0022|E0023|E0024|F001|F0021|F0022|F002A1|F002A2|F002A3|F002A4|F002A5|F0061|F006|\n",
      "+----+---+-------+-------+-----+-----+-----+-----+-------+---------+-----+-----+------+------------+------------+------+----+-----+------+------+------+----+----+----+----+----+-----+-----+----+-----+----+----+-----+-----+-----+-----+-----+-----+-----+-----+-----+------+------+------+------+----+-----+-----+-----+-----+-----+-----+-----+-----+-----+-----+-----+-----+-----+----+----+----+----+-----+-----+-----+-----+-----+-----+-----+-----+-----+-----+-----+-----+----+----+----+----+----+----+-----+-----+-----+----+----+-----+-----+-----+-----+-----+------+------+-----+----+----+-----+----+-----+------+--------+-----+------+------+-----+-----+-----+------+-------+--------+------+-------+-------+----+----+----+----+----+-----+-----+--------+-----+-----+-----+-----+-----+--------+-----+--------+-----+-----+-----+-----+----+-----+-----+-----+-----+----+-----+-----+------+------+------+------+------+-----+----+\n",
      "|2020| 11|     11|   NULL|   01|    4|   11|    7|1110011|110015970|    1|    1|152902|101.01170275|117.46371855|  1114|  01|   01|    05|    08|  1984| 036|   1|   4|   5|NULL| NULL| NULL|NULL| NULL|NULL|NULL|    2|    2|    2|    2|    2|    2|    2|    2|    2|     2|     2|     2|     2|NULL| NULL| NULL| NULL| NULL| NULL| NULL| NULL| NULL| NULL| NULL| NULL| NULL| NULL|NULL|NULL|   1|   2| NULL| NULL| NULL| NULL| NULL| NULL|    2|    2|    2|    2|    2|    2|   2|   1|NULL|NULL|NULL|NULL| NULL| NULL| NULL|   2|  04| NULL|    1|   35|   06| NULL|  NULL|  NULL| NULL| 048| 048| NULL|   1|    1|    04|00001045| NULL|  NULL|  NULL| NULL| NULL|    1|     1|     04|00001045|  NULL|   NULL|   NULL|   1|NULL|NULL|NULL|NULL| NULL|    2|    NULL|    2| NULL|    2| NULL|    2|    NULL|    1|00000600|    2| NULL|    2| NULL|   3| NULL| NULL| NULL| NULL|   1| NULL| NULL|     1|     1|     1|     2|     1|    1|  01|\n",
      "|2020| 11|     11|   NULL|   01|    4|   11|    7|1110011|110015970|    1|    1|150835|101.01170275|125.75120197|  1124|  02|   02|    18|    08|  1990| 030|   2|   4|   7|NULL| NULL| NULL|NULL| NULL|NULL|NULL|    2|    2|    2|    2|    2|    2|    2|    2|    2|     2|     2|     2|     2|NULL| NULL| NULL| NULL| NULL| NULL| NULL| NULL| NULL| NULL| NULL| NULL| NULL| NULL|NULL|NULL|   2|   2| NULL| NULL| NULL| NULL| NULL| NULL|    2|    2|    2|    2|    2|    2|   2|   1|NULL|NULL|NULL|NULL| NULL| NULL| NULL|   2|  07| NULL| NULL|   27|   20| NULL|  NULL|  NULL| NULL| 036| 036|    2|   1|    1|    04|00001045| NULL|  NULL|  NULL| NULL| NULL|    1|     1|     04|00001045|  NULL|   NULL|   NULL|   1|NULL|   2|NULL|NULL| NULL|    2|    NULL|    2| NULL|    2| NULL|    2|    NULL|    1|00000600|    2| NULL|    2| NULL|   3| NULL| NULL| NULL| NULL|   1| NULL| NULL|     1|     1|     1|     2|     1|    1|  01|\n",
      "|2020| 11|     11|   NULL|   01|    4|   11|    7|1110011|110015970|    1|    1|144737|101.01170275|131.36101755|  1112|  03|   04|    25|    12|  2006| 013|   1|   4|   2|   1|    1|    3|   1| NULL|   5|   3|    2|    2|    2|    2|    2|    2|    2|    2|    2|     2|     2|     2|     2|NULL| NULL| NULL| NULL| NULL| NULL| NULL| NULL| NULL| NULL| NULL| NULL| NULL| NULL|NULL|NULL|   1|   2| NULL| NULL| NULL| NULL| NULL| NULL|    2|    2|    2|    2|    2|    2|   4|NULL|NULL|NULL|NULL|NULL| NULL| NULL| NULL|NULL|NULL| NULL| NULL| NULL| NULL| NULL|  NULL|  NULL| NULL|NULL|NULL| NULL|NULL| NULL|  NULL|    NULL| NULL|  NULL|  NULL| NULL| NULL| NULL|  NULL|   NULL|    NULL|  NULL|   NULL|   NULL|NULL|NULL|NULL|NULL|NULL| NULL|    2|    NULL|    2| NULL|    2| NULL|    2|    NULL|    1|00000600|    2| NULL|    2| NULL|   3| NULL| NULL| NULL| NULL|   1| NULL| NULL|     1|     1|     1|     2|     1|    1|  01|\n",
      "|2020| 11|     11|   NULL|   01|    4|   11|    7|1110011|110015970|    1|    1|144737|101.01170275|131.36101755|  1112|  04|   04|    24|    08|  2009| 011|   1|   4|   2|   1|    1|    3|   1| NULL|   5|   3|    2|    2|    2|    2|    2|    2|    2|    2|    2|     2|     2|     2|     2|NULL| NULL| NULL| NULL| NULL| NULL| NULL| NULL| NULL| NULL| NULL| NULL| NULL| NULL|NULL|NULL|   1|   2| NULL| NULL| NULL| NULL| NULL| NULL|    2|    2|    2|    2|    2|    2|   4|NULL|NULL|NULL|NULL|NULL| NULL| NULL| NULL|NULL|NULL| NULL| NULL| NULL| NULL| NULL|  NULL|  NULL| NULL|NULL|NULL| NULL|NULL| NULL|  NULL|    NULL| NULL|  NULL|  NULL| NULL| NULL| NULL|  NULL|   NULL|    NULL|  NULL|   NULL|   NULL|NULL|NULL|NULL|NULL|NULL| NULL|    2|    NULL|    2| NULL|    2| NULL|    2|    NULL|    1|00000600|    2| NULL|    2| NULL|   3| NULL| NULL| NULL| NULL|   1| NULL| NULL|     1|     1|     1|     2|     1|    1|  01|\n",
      "|2020| 11|     11|   NULL|   02|    1|   11|    7|1110011|110015970|    1|    1| 92377|101.01170275|100.73351653|  1126|  01|   01|    18|    05|  1963| 057|   2|   1|   2|NULL| NULL| NULL|NULL| NULL|NULL|NULL|    2|    2|    2|    2|    2|    2|    2|    2|    2|     2|     2|     2|     2|NULL| NULL| NULL| NULL| NULL| NULL| NULL| NULL| NULL| NULL| NULL| NULL| NULL| NULL|NULL|NULL|   2|   2| NULL| NULL| NULL| NULL| NULL| NULL|    2|    2|    2|    2|    2|    2|   2|   2|   2|NULL|NULL|NULL| NULL| NULL| NULL|NULL|NULL| NULL| NULL| NULL| NULL| NULL|  NULL|  NULL| NULL|NULL|NULL| NULL|NULL| NULL|  NULL|    NULL| NULL|  NULL|  NULL| NULL| NULL| NULL|  NULL|   NULL|    NULL|  NULL|   NULL|   NULL|NULL|NULL|   2|   2|  01|    1|    2|    NULL|    2| NULL|    2| NULL|    1|00001045|    2|    NULL|    2| NULL|    2| NULL|   3| NULL| NULL| NULL| NULL|   1| NULL| NULL|     1|     1|     1|     2|     1|    1|  01|\n",
      "|2020| 11|     11|   NULL|   03|    2|   11|    7|1110011|110015970|    1|    1| 92377|101.01170275|100.73351653|  1126|  01|   01|    25|    12|  1961| 058|   2|   2|   1|NULL| NULL| NULL|NULL| NULL|NULL|NULL|    2|    2|    2|    2|    2|    2|    2|    2|    2|     2|     2|     2|     2|NULL| NULL| NULL| NULL| NULL| NULL| NULL| NULL| NULL| NULL| NULL| NULL| NULL| NULL|NULL|NULL|   2|   2| NULL| NULL| NULL| NULL| NULL| NULL|    1|    1|    2|    2|    2|    2|   3|   1|NULL|NULL|NULL|NULL| NULL| NULL| NULL|   2|  07| NULL| NULL|   21|   25| NULL|  NULL|  NULL| NULL| 030| 030|    2|   1|    1|    01|00000200| NULL|  NULL|  NULL| NULL| NULL|    1|     1|     00|00000100|  NULL|   NULL|   NULL|   1|NULL|   2|NULL|NULL| NULL|    1|00001045|    2| NULL|    2| NULL|    2|    NULL|    2|    NULL|    2| NULL|    2| NULL|   3| NULL| NULL| NULL| NULL|   1| NULL| NULL|     1|     1|     1|     2|     1|    1|  01|\n",
      "|2020| 11|     11|   NULL|   04|    4|   11|    7|1110011|110015970|    1|    1|123734|101.01170275|126.28010983|  1115|  01|   01|    18|    02|  1973| 047|   1|   4|   2|NULL| NULL| NULL|NULL| NULL|NULL|NULL|    2|    2|    2|    2|    2|    2|    2|    2|    2|     2|     2|     2|     2|NULL| NULL| NULL| NULL| NULL| NULL| NULL| NULL| NULL| NULL| NULL| NULL| NULL| NULL|NULL|NULL|   2|   2| NULL| NULL| NULL| NULL| NULL| NULL|    2|    2|    2|    2|    2|    2|   2|   1|NULL|NULL|NULL|NULL| NULL| NULL| NULL|   2|  07| NULL| NULL|   18|   05| NULL|  NULL|  NULL| NULL| 040| 020|    1|   1|    1|    04|00001500| NULL|  NULL|  NULL| NULL| NULL|    1|     1|     02|00000600|  NULL|   NULL|   NULL|   1|NULL|   2|NULL|NULL| NULL|    2|    NULL|    2| NULL|    2| NULL|    2|    NULL|    1|00000300|    2| NULL|    2| NULL|   3| NULL| NULL| NULL| NULL|   1| NULL| NULL|     1|     1|     1|     2|     1|    1|  01|\n",
      "|2020| 11|     11|   NULL|   04|    4|   11|    7|1110011|110015970|    1|    1|138562|101.01170275|117.95596542|  1122|  04|   05|    99|    99|  9999| 018|   2|   4|   2|   2| NULL| NULL|NULL| NULL|NULL|NULL|    2|    2|    2|    2|    2|    2|    2|    2|    2|     2|     2|     2|     2|NULL| NULL| NULL| NULL| NULL| NULL| NULL| NULL| NULL| NULL| NULL| NULL| NULL| NULL|NULL|NULL|   2|   2| NULL| NULL| NULL| NULL| NULL| NULL|    2|    2|    2|    2|    2|    2|   3|   2|   2|NULL|NULL|NULL| NULL| NULL| NULL|NULL|NULL| NULL| NULL| NULL| NULL| NULL|  NULL|  NULL| NULL|NULL|NULL| NULL|NULL| NULL|  NULL|    NULL| NULL|  NULL|  NULL| NULL| NULL| NULL|  NULL|   NULL|    NULL|  NULL|   NULL|   NULL|NULL|NULL|   2|   2|  03|    2|    2|    NULL|    2| NULL|    2| NULL|    2|    NULL|    1|00000300|    2| NULL|    2| NULL|   3| NULL| NULL| NULL| NULL|   1| NULL| NULL|     1|     1|     1|     2|     1|    1|  01|\n",
      "|2020| 11|     11|   NULL|   04|    4|   11|    7|1110011|110015970|    1|    1|144737|101.01170275|131.36101755|  1112|  07|   05|    99|    99|  9999| 011|   1|   4|   2|   1|    1|    3|   3| NULL|NULL|NULL|    2|    2|    2|    2|    2|    2|    2|    2|    2|     2|     2|     2|     2|NULL| NULL| NULL| NULL| NULL| NULL| NULL| NULL| NULL| NULL| NULL| NULL| NULL| NULL|NULL|NULL|   2|   2| NULL| NULL| NULL| NULL| NULL| NULL|    2|    2|    2|    2|    2|    2|   4|NULL|NULL|NULL|NULL|NULL| NULL| NULL| NULL|NULL|NULL| NULL| NULL| NULL| NULL| NULL|  NULL|  NULL| NULL|NULL|NULL| NULL|NULL| NULL|  NULL|    NULL| NULL|  NULL|  NULL| NULL| NULL| NULL|  NULL|   NULL|    NULL|  NULL|   NULL|   NULL|NULL|NULL|NULL|NULL|NULL| NULL|    2|    NULL|    2| NULL|    2| NULL|    2|    NULL|    1|00000300|    2| NULL|    2| NULL|   3| NULL| NULL| NULL| NULL|   1| NULL| NULL|     1|     1|     1|     2|     1|    1|  01|\n",
      "|2020| 11|     11|   NULL|   04|    4|   11|    7|1110011|110015970|    1|    1|134209|101.01170275|128.59813757|  1121|  09|   05|    99|    99|  9999| 009|   2|   4|   2|   1|    1|    3|   3| NULL|NULL|NULL|    2|    2|    2|    2|    2|    2|    2|    2|    2|     2|     2|     2|     2|NULL| NULL| NULL| NULL| NULL| NULL| NULL| NULL| NULL| NULL| NULL| NULL| NULL| NULL|NULL|NULL|   2|   2| NULL| NULL| NULL| NULL| NULL| NULL|    2|    2|    2|    2|    2|    2|   4|NULL|NULL|NULL|NULL|NULL| NULL| NULL| NULL|NULL|NULL| NULL| NULL| NULL| NULL| NULL|  NULL|  NULL| NULL|NULL|NULL| NULL|NULL| NULL|  NULL|    NULL| NULL|  NULL|  NULL| NULL| NULL| NULL|  NULL|   NULL|    NULL|  NULL|   NULL|   NULL|NULL|NULL|NULL|NULL|NULL| NULL|    2|    NULL|    2| NULL|    2| NULL|    2|    NULL|    1|00000300|    2| NULL|    2| NULL|   3| NULL| NULL| NULL| NULL|   1| NULL| NULL|     1|     1|     1|     2|     1|    1|  01|\n",
      "+----+---+-------+-------+-----+-----+-----+-----+-------+---------+-----+-----+------+------------+------------+------+----+-----+------+------+------+----+----+----+----+----+-----+-----+----+-----+----+----+-----+-----+-----+-----+-----+-----+-----+-----+-----+------+------+------+------+----+-----+-----+-----+-----+-----+-----+-----+-----+-----+-----+-----+-----+-----+----+----+----+----+-----+-----+-----+-----+-----+-----+-----+-----+-----+-----+-----+-----+----+----+----+----+----+----+-----+-----+-----+----+----+-----+-----+-----+-----+-----+------+------+-----+----+----+-----+----+-----+------+--------+-----+------+------+-----+-----+-----+------+-------+--------+------+-------+-------+----+----+----+----+----+-----+-----+--------+-----+-----+-----+-----+-----+--------+-----+--------+-----+-----+-----+-----+----+-----+-----+-----+-----+----+-----+-----+------+------+------+------+------+-----+----+\n",
      "only showing top 10 rows\n",
      "\n"
     ]
    },
    {
     "name": "stderr",
     "output_type": "stream",
     "text": [
      "                                                                                \r"
     ]
    },
    {
     "name": "stdout",
     "output_type": "stream",
     "text": [
      "  ✅ Tabela bronze.raw_pnad_covid_112020 criada com sucesso!\n",
      "\n",
      "  --------------------------------------------------\n",
      "\n",
      "\n",
      "== Criação das tabelas concluída == \n"
     ]
    }
   ],
   "source": [
    "from pyspark.sql.utils import AnalysisException\n",
    "from py4j.protocol import Py4JJavaError\n",
    "\n",
    "print(\"== Percorrendo os arquivos do Bucket para criação das tabelas no banco de dados ==\")\n",
    "print(\"\")\n",
    "for arquivo in arquivos_bucket:\n",
    "    \"\"\"Criação dinâmica das tabelas no Postgres\"\"\"\n",
    "    \n",
    "    nome_tabela = f\"bronze.raw_{Path(arquivo).stem.lower()}\"     \n",
    "        \n",
    "    print(f\"  Arquivo: {arquivo}\")\n",
    "    print(f\"  JDBC_URL: {jdbc_url}\")\n",
    "    print(f\"  Nome da tabela: {nome_tabela}\")\n",
    "    print(f\"  Postgres Propriedades: {connection_properties}\")\n",
    "\n",
    "    try:\n",
    "        df = read_file(arquivo)\n",
    "        print(\"\")\n",
    "        print(f\"  Dados carregados no DF: {df.count()} linhas | {df.columns} colunas\")\n",
    "        df.show(10)\n",
    "        print(\"\")\n",
    "\n",
    "        df.write.mode(\"overwrite\").jdbc(jdbc_url, nome_tabela, properties=connection_properties)\n",
    "        \n",
    "        print(f\"  ✅ Tabela {nome_tabela} criada com sucesso!\")\n",
    "        print(\"\")\n",
    "        print(\"  \" + \"-\"*50)\n",
    "        print(\"\")\n",
    "\n",
    "    except AnalysisException as e:\n",
    "        print(f\"  ❌ Erro de análise Spark (arquivo/schema): {e}\")\n",
    "        break\n",
    "\n",
    "    except psycopg2.Error as e:\n",
    "        print(f\"  ❌ Erro psycopg2: {e}\")\n",
    "        break\n",
    "    \n",
    "    except Py4JJavaError as e:\n",
    "        print(f\"  ❌ Erro Py4JJavaError: {e}\")\n",
    "        break\n",
    "\n",
    "    except Exception as e:\n",
    "        print(f\"  ⚠️ Erro genérico: {e}\")\n",
    "\n",
    "    finally:\n",
    "        print(\"\")\n",
    "        print(\"== Criação das tabelas concluída == \")\n",
    "\n"
   ]
  },
  {
   "cell_type": "code",
   "execution_count": null,
   "id": "b5826b3c",
   "metadata": {},
   "outputs": [],
   "source": []
  }
 ],
 "metadata": {
  "kernelspec": {
   "display_name": "Python 3",
   "language": "python",
   "name": "python3"
  },
  "language_info": {
   "codemirror_mode": {
    "name": "ipython",
    "version": 3
   },
   "file_extension": ".py",
   "mimetype": "text/x-python",
   "name": "python",
   "nbconvert_exporter": "python",
   "pygments_lexer": "ipython3",
   "version": "3.11.13"
  }
 },
 "nbformat": 4,
 "nbformat_minor": 5
}
